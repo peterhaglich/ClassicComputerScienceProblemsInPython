{
 "cells": [
  {
   "cell_type": "markdown",
   "metadata": {},
   "source": [
    "## Fibonacci"
   ]
  },
  {
   "cell_type": "code",
   "execution_count": 1,
   "metadata": {},
   "outputs": [
    {
     "name": "stdout",
     "output_type": "stream",
     "text": [
      "RecursionError('maximum recursion depth exceeded',)\n"
     ]
    }
   ],
   "source": [
    "def fib1(n:int) -> int:\n",
    "    return fib1(n-1) + fib1(n-2)\n",
    "try:\n",
    "    fib1(3)\n",
    "except RecursionError as e:\n",
    "    print(repr(e))"
   ]
  },
  {
   "cell_type": "code",
   "execution_count": 2,
   "metadata": {},
   "outputs": [
    {
     "data": {
      "text/plain": [
       "21"
      ]
     },
     "execution_count": 2,
     "metadata": {},
     "output_type": "execute_result"
    }
   ],
   "source": [
    "def fib2(n:int) -> int:\n",
    "    if n < 2:\n",
    "        return n\n",
    "    else:\n",
    "        return fib2(n-2) + fib2(n-1)\n",
    "    \n",
    "fib2(8)"
   ]
  },
  {
   "cell_type": "code",
   "execution_count": 3,
   "metadata": {},
   "outputs": [
    {
     "name": "stdout",
     "output_type": "stream",
     "text": [
      "21 12586269025\n"
     ]
    }
   ],
   "source": [
    "from typing import Dict\n",
    "memo:Dict[int, int] = {0:0, 1:1} #base cases\n",
    "def fib3(n:int) -> int:\n",
    "    if n not in memo:\n",
    "        memo[n] = fib3(n-1) + fib3(n-2)\n",
    "    return memo[n]\n",
    "print(fib3(8), fib3(50))"
   ]
  },
  {
   "cell_type": "code",
   "execution_count": 4,
   "metadata": {},
   "outputs": [
    {
     "name": "stdout",
     "output_type": "stream",
     "text": [
      "21 12586269025\n"
     ]
    }
   ],
   "source": [
    "from functools import lru_cache\n",
    "@lru_cache(maxsize=None)\n",
    "def fib4(n: int) -> int:\n",
    "    if n < 2:\n",
    "        return n\n",
    "    else:\n",
    "        return fib4(n-2) + fib4(n-1)\n",
    "    \n",
    "print(fib4(8), fib4(50))"
   ]
  },
  {
   "cell_type": "code",
   "execution_count": 5,
   "metadata": {},
   "outputs": [
    {
     "name": "stdout",
     "output_type": "stream",
     "text": [
      "21 12586269025\n"
     ]
    }
   ],
   "source": [
    "def fib5(n:int) -> int:\n",
    "    if n == 0:\n",
    "        return n\n",
    "    else:\n",
    "        last:int = 0\n",
    "        _next:int = 1\n",
    "        for _ in range(1,n):\n",
    "            last, _next = _next, last + _next\n",
    "        return _next\n",
    "    \n",
    "print(fib5(8), fib5(50))"
   ]
  },
  {
   "cell_type": "code",
   "execution_count": 6,
   "metadata": {},
   "outputs": [
    {
     "data": {
      "text/plain": [
       "[0,\n",
       " 1,\n",
       " 1,\n",
       " 2,\n",
       " 3,\n",
       " 5,\n",
       " 8,\n",
       " 13,\n",
       " 21,\n",
       " 34,\n",
       " 55,\n",
       " 89,\n",
       " 144,\n",
       " 233,\n",
       " 377,\n",
       " 610,\n",
       " 987,\n",
       " 1597,\n",
       " 2584,\n",
       " 4181,\n",
       " 6765,\n",
       " 10946,\n",
       " 17711,\n",
       " 28657,\n",
       " 46368,\n",
       " 75025,\n",
       " 121393,\n",
       " 196418,\n",
       " 317811,\n",
       " 514229,\n",
       " 832040,\n",
       " 1346269,\n",
       " 2178309,\n",
       " 3524578,\n",
       " 5702887,\n",
       " 9227465,\n",
       " 14930352,\n",
       " 24157817,\n",
       " 39088169,\n",
       " 63245986,\n",
       " 102334155,\n",
       " 165580141,\n",
       " 267914296,\n",
       " 433494437,\n",
       " 701408733,\n",
       " 1134903170,\n",
       " 1836311903,\n",
       " 2971215073,\n",
       " 4807526976,\n",
       " 7778742049,\n",
       " 12586269025]"
      ]
     },
     "execution_count": 6,
     "metadata": {},
     "output_type": "execute_result"
    }
   ],
   "source": [
    "from typing import Generator\n",
    "def fib6(n:int) -> int:\n",
    "    yield 0\n",
    "    if n> 0: \n",
    "        yield 1\n",
    "    last:int = 0\n",
    "    _next:int = 1\n",
    "    for _ in range(1,n):\n",
    "        last, _next = _next, last + _next\n",
    "        yield _next\n",
    "        \n",
    "list([i for i in fib6(50)])"
   ]
  },
  {
   "cell_type": "markdown",
   "metadata": {},
   "source": [
    "## Trivial Compression"
   ]
  },
  {
   "cell_type": "code",
   "execution_count": 36,
   "metadata": {},
   "outputs": [],
   "source": [
    "class CompressedGene:\n",
    "    def __init__(self, gene: str) -> None:\n",
    "        self._compress(gene)\n",
    "\n",
    "    def _compress(self, gene: str) -> None:\n",
    "        self.bit_string: int = 1  # start with sentinel\n",
    "        for nucleotide in gene.upper():\n",
    "            self.bit_string <<= 2  # shift left two bits\n",
    "            if nucleotide == \"A\":  # change last two bits to 00\n",
    "                self.bit_string |= 0b00\n",
    "            elif nucleotide == \"C\":  # change last two bits to 01\n",
    "                self.bit_string |= 0b01\n",
    "            elif nucleotide == \"G\":  # change last two bits to 10\n",
    "                self.bit_string |= 0b10\n",
    "            elif nucleotide == \"T\":  # change last two bits to 11\n",
    "                self.bit_string |= 0b11\n",
    "            else:\n",
    "                raise ValueError(\"Invalid Nucleotide:{}\".format(nucleotide))\n",
    "\n",
    "    def decompress(self) -> str:\n",
    "        gene: str = \"\"\n",
    "        for i in range(0, self.bit_string.bit_length() - 1, 2):  # - 1 to exclude sentinel\n",
    "            bits: int = self.bit_string >> i & 0b11  # get just 2 relevant bits\n",
    "            if bits == 0b00:  # A\n",
    "                gene += \"A\"\n",
    "            elif bits == 0b01:  # C\n",
    "                gene += \"C\"\n",
    "            elif bits == 0b10:  # G\n",
    "                gene += \"G\"\n",
    "            elif bits == 0b11:  # T\n",
    "                gene += \"T\"\n",
    "            else:\n",
    "                raise ValueError(\"Invalid bits:{}\".format(bits))\n",
    "        return gene[::-1]  # [::-1] reverses string by slicing backwards\n",
    "\n",
    "    def __str__(self) -> str:  # string representation for pretty printing\n",
    "        return self.decompress()\n",
    "\n"
   ]
  },
  {
   "cell_type": "code",
   "execution_count": 43,
   "metadata": {},
   "outputs": [
    {
     "name": "stdout",
     "output_type": "stream",
     "text": [
      "original is 4749 bytes\n",
      "compressed is 1280 bytes\n",
      "TAGGGATTAACCATTAACCGTTATATATATATAGCCATGGACAGTAGTAGGGATTAACCATTAACCGTTATATATATATAGCCATGGACAGTAGTAGGGATTAACCATTAACCGTTATATATATATAGCCATGGACAGTAGTAGGGATTAACCATTAACCGTTATATATATATAGCCATGGACAGTAGTAGGGATTAACCATTAACCGTTATATATATATAGCCATGGACAGTAGTAGGGATTAACCATTAACCGTTATATATATATAGCCATGGACAGTAGTAGGGATTAACCATTAACCGTTATATATATATAGCCATGGACAGTAGTAGGGATTAACCATTAACCGTTATATATATATAGCCATGGACAGTAGTAGGGATTAACCATTAACCGTTATATATATATAGCCATGGACAGTAGTAGGGATTAACCATTAACCGTTATATATATATAGCCATGGACAGTAGTAGGGATTAACCATTAACCGTTATATATATATAGCCATGGACAGTAGTAGGGATTAACCATTAACCGTTATATATATATAGCCATGGACAGTAGTAGGGATTAACCATTAACCGTTATATATATATAGCCATGGACAGTAGTAGGGATTAACCATTAACCGTTATATATATATAGCCATGGACAGTAGTAGGGATTAACCATTAACCGTTATATATATATAGCCATGGACAGTAGTAGGGATTAACCATTAACCGTTATATATATATAGCCATGGACAGTAGTAGGGATTAACCATTAACCGTTATATATATATAGCCATGGACAGTAGTAGGGATTAACCATTAACCGTTATATATATATAGCCATGGACAGTAGTAGGGATTAACCATTAACCGTTATATATATATAGCCATGGACAGTAGTAGGGATTAACCATTAACCGTTATATATATATAGCCATGGACAGTAGTAGGGATTAACCATTAACCGTTATATATATATAGCCATGGACAGTAGTAGGGATTAACCATTAACCGTTATATATATATAGCCATGGACAGTAGTAGGGATTAACCATTAACCGTTATATATATATAGCCATGGACAGTAGTAGGGATTAACCATTAACCGTTATATATATATAGCCATGGACAGTAGTAGGGATTAACCATTAACCGTTATATATATATAGCCATGGACAGTAGTAGGGATTAACCATTAACCGTTATATATATATAGCCATGGACAGTAGTAGGGATTAACCATTAACCGTTATATATATATAGCCATGGACAGTAGTAGGGATTAACCATTAACCGTTATATATATATAGCCATGGACAGTAGTAGGGATTAACCATTAACCGTTATATATATATAGCCATGGACAGTAGTAGGGATTAACCATTAACCGTTATATATATATAGCCATGGACAGTAGTAGGGATTAACCATTAACCGTTATATATATATAGCCATGGACAGTAGTAGGGATTAACCATTAACCGTTATATATATATAGCCATGGACAGTAGTAGGGATTAACCATTAACCGTTATATATATATAGCCATGGACAGTAGTAGGGATTAACCATTAACCGTTATATATATATAGCCATGGACAGTAGTAGGGATTAACCATTAACCGTTATATATATATAGCCATGGACAGTAGTAGGGATTAACCATTAACCGTTATATATATATAGCCATGGACAGTAGTAGGGATTAACCATTAACCGTTATATATATATAGCCATGGACAGTAGTAGGGATTAACCATTAACCGTTATATATATATAGCCATGGACAGTAGTAGGGATTAACCATTAACCGTTATATATATATAGCCATGGACAGTAGTAGGGATTAACCATTAACCGTTATATATATATAGCCATGGACAGTAGTAGGGATTAACCATTAACCGTTATATATATATAGCCATGGACAGTAGTAGGGATTAACCATTAACCGTTATATATATATAGCCATGGACAGTAGTAGGGATTAACCATTAACCGTTATATATATATAGCCATGGACAGTAGTAGGGATTAACCATTAACCGTTATATATATATAGCCATGGACAGTAGTAGGGATTAACCATTAACCGTTATATATATATAGCCATGGACAGTAGTAGGGATTAACCATTAACCGTTATATATATATAGCCATGGACAGTAGTAGGGATTAACCATTAACCGTTATATATATATAGCCATGGACAGTAGTAGGGATTAACCATTAACCGTTATATATATATAGCCATGGACAGTAGTAGGGATTAACCATTAACCGTTATATATATATAGCCATGGACAGTAGTAGGGATTAACCATTAACCGTTATATATATATAGCCATGGACAGTAGTAGGGATTAACCATTAACCGTTATATATATATAGCCATGGACAGTAGTAGGGATTAACCATTAACCGTTATATATATATAGCCATGGACAGTAGTAGGGATTAACCATTAACCGTTATATATATATAGCCATGGACAGTAGTAGGGATTAACCATTAACCGTTATATATATATAGCCATGGACAGTAGTAGGGATTAACCATTAACCGTTATATATATATAGCCATGGACAGTAGTAGGGATTAACCATTAACCGTTATATATATATAGCCATGGACAGTAGTAGGGATTAACCATTAACCGTTATATATATATAGCCATGGACAGTAGTAGGGATTAACCATTAACCGTTATATATATATAGCCATGGACAGTAGTAGGGATTAACCATTAACCGTTATATATATATAGCCATGGACAGTAGTAGGGATTAACCATTAACCGTTATATATATATAGCCATGGACAGTAGTAGGGATTAACCATTAACCGTTATATATATATAGCCATGGACAGTAGTAGGGATTAACCATTAACCGTTATATATATATAGCCATGGACAGTAGTAGGGATTAACCATTAACCGTTATATATATATAGCCATGGACAGTAGTAGGGATTAACCATTAACCGTTATATATATATAGCCATGGACAGTAGTAGGGATTAACCATTAACCGTTATATATATATAGCCATGGACAGTAGTAGGGATTAACCATTAACCGTTATATATATATAGCCATGGACAGTAGTAGGGATTAACCATTAACCGTTATATATATATAGCCATGGACAGTAGTAGGGATTAACCATTAACCGTTATATATATATAGCCATGGACAGTAGTAGGGATTAACCATTAACCGTTATATATATATAGCCATGGACAGTAGTAGGGATTAACCATTAACCGTTATATATATATAGCCATGGACAGTAGTAGGGATTAACCATTAACCGTTATATATATATAGCCATGGACAGTAGTAGGGATTAACCATTAACCGTTATATATATATAGCCATGGACAGTAGTAGGGATTAACCATTAACCGTTATATATATATAGCCATGGACAGTAGTAGGGATTAACCATTAACCGTTATATATATATAGCCATGGACAGTAGTAGGGATTAACCATTAACCGTTATATATATATAGCCATGGACAGTAGTAGGGATTAACCATTAACCGTTATATATATATAGCCATGGACAGTAGTAGGGATTAACCATTAACCGTTATATATATATAGCCATGGACAGTAGTAGGGATTAACCATTAACCGTTATATATATATAGCCATGGACAGTAGTAGGGATTAACCATTAACCGTTATATATATATAGCCATGGACAGTAGTAGGGATTAACCATTAACCGTTATATATATATAGCCATGGACAGTAGTAGGGATTAACCATTAACCGTTATATATATATAGCCATGGACAGTAGTAGGGATTAACCATTAACCGTTATATATATATAGCCATGGACAGTAGTAGGGATTAACCATTAACCGTTATATATATATAGCCATGGACAGTAGTAGGGATTAACCATTAACCGTTATATATATATAGCCATGGACAGTAGTAGGGATTAACCATTAACCGTTATATATATATAGCCATGGACAGTAGTAGGGATTAACCATTAACCGTTATATATATATAGCCATGGACAGTAGTAGGGATTAACCATTAACCGTTATATATATATAGCCATGGACAGTAGTAGGGATTAACCATTAACCGTTATATATATATAGCCATGGACAGTAGTAGGGATTAACCATTAACCGTTATATATATATAGCCATGGACAGTAGTAGGGATTAACCATTAACCGTTATATATATATAGCCATGGACAGTAGTAGGGATTAACCATTAACCGTTATATATATATAGCCATGGACAGTAGTAGGGATTAACCATTAACCGTTATATATATATAGCCATGGACAGTAGTAGGGATTAACCATTAACCGTTATATATATATAGCCATGGACAGTAGTAGGGATTAACCATTAACCGTTATATATATATAGCCATGGACAGTAGTAGGGATTAACCATTAACCGTTATATATATATAGCCATGGACAGTAGTAGGGATTAACCATTAACCGTTATATATATATAGCCATGGACAGTAGTAGGGATTAACCATTAACCGTTATATATATATAGCCATGGACAGTAGTAGGGATTAACCATTAACCGTTATATATATATAGCCATGGACAGTAGTAGGGATTAACCATTAACCGTTATATATATATAGCCATGGACAGTAGTAGGGATTAACCATTAACCGTTATATATATATAGCCATGGACAGTAG\n",
      "original and decompressed are the same: True\n"
     ]
    }
   ],
   "source": [
    "from sys import getsizeof\n",
    "original:str = \"TAGGGATTAACCATTAACCGTTATATATATATAGCCATGGACAGTAG\"*100\n",
    "print(\"original is {} bytes\".format(getsizeof(original)))\n",
    "compressed:CompressedGene = CompressedGene(original)\n",
    "print(\"compressed is {} bytes\".format(getsizeof(compressed.bit_string)))\n",
    "print(compressed)\n",
    "print(\"original and decompressed are the same: {}\".format(original == compressed.decompress()))"
   ]
  },
  {
   "cell_type": "markdown",
   "metadata": {},
   "source": [
    "## Unbreakable Encryption"
   ]
  },
  {
   "cell_type": "code",
   "execution_count": 44,
   "metadata": {},
   "outputs": [],
   "source": [
    "from secrets import token_bytes\n",
    "from typing import Tuple"
   ]
  },
  {
   "cell_type": "code",
   "execution_count": 53,
   "metadata": {},
   "outputs": [],
   "source": [
    "def random_key(length:int) -> int:\n",
    "    # generate length random bytes\n",
    "    tb:bytes = token_bytes(length)\n",
    "    # convert to a bit string in the form of an int\n",
    "    return int.from_bytes(tb, \"big\")"
   ]
  },
  {
   "cell_type": "code",
   "execution_count": 57,
   "metadata": {},
   "outputs": [
    {
     "name": "stdout",
     "output_type": "stream",
     "text": [
      "(2977035838, 3607335770)\n"
     ]
    }
   ],
   "source": [
    "def encrypt(original:str) -> Tuple[int, int]:\n",
    "    original_bytes: bytes = original.encode()\n",
    "    dummy:int = random_key(len(original_bytes))\n",
    "    original_key:int = int.from_bytes(original_bytes, \"big\")\n",
    "    encrypted: int = original_key^dummy # XOR\n",
    "    return dummy, encrypted\n",
    "\n",
    "print(encrypt(\"fred\"))"
   ]
  },
  {
   "cell_type": "code",
   "execution_count": 58,
   "metadata": {},
   "outputs": [],
   "source": [
    "def decrypt(key1:int, key2:int) -> str:\n",
    "    decrypted:int = key1^key2 #XOR\n",
    "    temp:bytes = decrypted.to_bytes((decrypted.bit_length()+7)//8, \"big\")\n",
    "    return temp.decode()"
   ]
  },
  {
   "cell_type": "code",
   "execution_count": 59,
   "metadata": {},
   "outputs": [
    {
     "name": "stdout",
     "output_type": "stream",
     "text": [
      "One Time Pad!\n"
     ]
    }
   ],
   "source": [
    "key1, key2 = encrypt(\"One Time Pad!\")\n",
    "result:str = decrypt(key1, key2)\n",
    "print(result)"
   ]
  },
  {
   "cell_type": "markdown",
   "metadata": {},
   "source": [
    "## Calcluating Pi"
   ]
  },
  {
   "cell_type": "code",
   "execution_count": 60,
   "metadata": {},
   "outputs": [
    {
     "name": "stdout",
     "output_type": "stream",
     "text": [
      "3.1415916535897743\n"
     ]
    }
   ],
   "source": [
    "def calculate_pi(n_terms:int) -> float:\n",
    "    numerator:float = 4.0\n",
    "    denominator:float = 1.0\n",
    "    operation:float=1.0\n",
    "    pi:float = 0.0\n",
    "    for _ in range(n_terms):\n",
    "        pi += operation*(numerator/denominator)\n",
    "        denominator += 2.0\n",
    "        operation *= -1.0\n",
    "    return pi\n",
    "\n",
    "print(calculate_pi(1000000))"
   ]
  },
  {
   "cell_type": "markdown",
   "metadata": {},
   "source": [
    "## Towers of Hanoi"
   ]
  },
  {
   "cell_type": "code",
   "execution_count": 61,
   "metadata": {},
   "outputs": [],
   "source": [
    "from typing import TypeVar, Generic, List\n",
    "T = TypeVar(\"T\")\n",
    "\n",
    "class Stack(Generic[T]):\n",
    "    \n",
    "    def __init__(self) -> None:\n",
    "        self._container: List[T] = []\n",
    "            \n",
    "    def push(self, item:T) -> None:\n",
    "        self._container.append(item)\n",
    "        \n",
    "    def pop(self) -> T:\n",
    "        return self._container.pop()\n",
    "    \n",
    "    def __repr__(self) -> str:\n",
    "        return repr(self._container)"
   ]
  },
  {
   "cell_type": "code",
   "execution_count": 62,
   "metadata": {},
   "outputs": [],
   "source": [
    "num_discs:int = 3\n",
    "tower_a: Stack[int] = Stack()\n",
    "tower_b: Stack[int] = Stack()\n",
    "tower_c: Stack[int] = Stack()\n",
    "for i in range(1, num_discs+1):\n",
    "    tower_a.push(i)"
   ]
  },
  {
   "cell_type": "code",
   "execution_count": 64,
   "metadata": {},
   "outputs": [],
   "source": [
    "def hanoi(begin:Stack[int], end:Stack[int], temp:Stack[int], n:int) -> None:\n",
    "    if n == 1:\n",
    "        end.push(begin.pop())\n",
    "    else:\n",
    "        hanoi(begin, temp, end, n-1)\n",
    "        hanoi(begin, end, temp, 1)\n",
    "        hanoi(temp, end, begin, n-1)"
   ]
  },
  {
   "cell_type": "code",
   "execution_count": 65,
   "metadata": {},
   "outputs": [
    {
     "name": "stdout",
     "output_type": "stream",
     "text": [
      "[] [] [1, 2, 3]\n"
     ]
    }
   ],
   "source": [
    "hanoi(tower_a, tower_c, tower_b, num_discs)\n",
    "print(tower_a, tower_b, tower_c)"
   ]
  },
  {
   "cell_type": "code",
   "execution_count": 68,
   "metadata": {},
   "outputs": [],
   "source": [
    "def do_hanoi(num_discs:int) -> list:\n",
    "    tower_a: Stack[int] = Stack()\n",
    "    tower_b: Stack[int] = Stack()\n",
    "    tower_c: Stack[int] = Stack()\n",
    "    for i in range(1, num_discs+1):\n",
    "        tower_a.push(i)\n",
    "    hanoi(tower_a, tower_c, tower_b, num_discs)\n",
    "    print(tower_a, tower_b, tower_c)"
   ]
  },
  {
   "cell_type": "code",
   "execution_count": 69,
   "metadata": {},
   "outputs": [
    {
     "name": "stdout",
     "output_type": "stream",
     "text": [
      "[] [] [1, 2, 3, 4]\n"
     ]
    }
   ],
   "source": [
    "do_hanoi(4)"
   ]
  },
  {
   "cell_type": "code",
   "execution_count": 70,
   "metadata": {},
   "outputs": [
    {
     "name": "stdout",
     "output_type": "stream",
     "text": [
      "[] [] [1, 2, 3, 4, 5, 6, 7, 8, 9, 10, 11, 12, 13, 14, 15, 16, 17, 18, 19]\n"
     ]
    }
   ],
   "source": [
    "do_hanoi(19)"
   ]
  },
  {
   "cell_type": "code",
   "execution_count": null,
   "metadata": {},
   "outputs": [],
   "source": []
  }
 ],
 "metadata": {
  "kernelspec": {
   "display_name": "Python 3",
   "language": "python",
   "name": "python3"
  },
  "language_info": {
   "codemirror_mode": {
    "name": "ipython",
    "version": 3
   },
   "file_extension": ".py",
   "mimetype": "text/x-python",
   "name": "python",
   "nbconvert_exporter": "python",
   "pygments_lexer": "ipython3",
   "version": "3.6.2"
  }
 },
 "nbformat": 4,
 "nbformat_minor": 2
}
